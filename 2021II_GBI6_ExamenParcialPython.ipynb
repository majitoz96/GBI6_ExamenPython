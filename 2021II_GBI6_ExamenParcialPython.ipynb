{
 "cells": [
  {
   "cell_type": "markdown",
   "metadata": {},
   "source": [
    "<img src=\"https://www.ikiam.edu.ec/img/logo-ikiam-grey.png\" width=300 height=240 />\n",
    "\n",
    "# EXAMEN PARCIAL PYTHON\n",
    "    \n",
    "\n",
    "## GBI6-2021II: BIOINFORMÁTICA\n",
    "\n",
    "**Auquilla Villamagua Maria Jose** \n",
    "\n",
    "**18-02-2021**"
   ]
  },
  {
   "cell_type": "markdown",
   "metadata": {},
   "source": [
    "<font color='red'>NO AGREGUE NUEVAS CELDAS, UTILICE ÚNICAMENTE LAS QUE ESTÁN CREADAS</font>\n"
   ]
  },
  {
   "cell_type": "markdown",
   "metadata": {},
   "source": [
    "### REQUERIMIENTOS PARA EL EXAMEN\n",
    "Para este examen se requiere dos documentos: \n",
    "\n",
    "1. Archivo ```miningscience.py``` donde tendrá dos funciones:\n",
    "\n",
    "2. Archivo ```2021II_GBI6_ExamenParcialPython``` donde se llamará las funciones y se obtendrá resultados."
   ]
  },
  {
   "cell_type": "markdown",
   "metadata": {},
   "source": [
    "## Ejercicio 1 [2 puntos]\n",
    "Cree el archivo ```miningscience.py``` con las siguientes dosfunciones:\n",
    "    \n",
    "i. ```download_pubmed```: para descargar la data de PubMed utilizando el **ENTREZ** de Biopython. El parámetro de entrada para la función es el ```keyword```. \n",
    "    \n",
    "ii. ```mining_pubs```: esta función debe utilizar el módulo **re** y utilizar el párametro ```tipo``` para realizar lo siguiente:\n",
    "        \n",
    "* Si el tipo es \"DP\" recupera el año de publicación del artículo. El retorno es un *dataframe* con el **PMID** y el **DP_year**.\n",
    "      \n",
    "* Si el tipo es \"AU\" recupera el número de autores por **PMID**. El retorno es un *dataframe* con el **PMID** y el **num_auth**. \n",
    "      \n",
    "* Si el tipo es \"AD\" recupera el conteo de autores por país. El retorno es un *dataframe* con el **country** y el **num_auth**. \n",
    "\n",
    "* *Puede utilizar un ```if``` dentro de la función.* \n",
    "\n",
    "* *Cree un docstring para cada función.* \n",
    "\n",
    "Luego de crear las funciones, cargue el módulo ```miningscience``` como ```msc``` e imprima docstring de cada función.\n",
    "\n",
    "\n"
   ]
  },
  {
   "cell_type": "code",
   "execution_count": 2,
   "metadata": {},
   "outputs": [
    {
     "name": "stdout",
     "output_type": "stream",
     "text": [
      "El nombre de la la funcion es: download_pubmed\n",
      "Documentacion de la funcion : \"La funcion download_pubmed se encarga de rescatar la id de los documentos que esten relacionados con la keyword que se envio en la base de datos de pubmed \n",
      "__________________________________\n",
      "El nombre de la la funcion es: mining_pubs\n",
      "Documentacion de la funcion : \"La función de mining_pubs se encarga de filtrar la data dependiendo de la variable (tipo) que se envió pudiendo ser esta DP AU o AD , los datos  PMID para la extracción de documentos se obtienen gracias a la función download_pubmed que busca los documentos exactos basados en su ID   \n"
     ]
    }
   ],
   "source": [
    "from Bio import Entrez \n",
    "from Bio import SeqIO\n",
    "import pandas as pd\n",
    "import re,csv,itertools\n",
    "import numpy as np\n",
    "\n",
    "\n",
    "#obtencion de datos (documentos relacionados con la palabra ) 10**5\n",
    "def download_pubmed(keyword):\n",
    "    \"\"\"\"La funcion download_pubmed se encarga de rescatar la id de los documentos que esten relacionados con la keyword que se envio en la base de datos de pubmed \"\"\"\n",
    "    Entrez.email = 'your.email@example.com'\n",
    "    handle = Entrez.esearch(db='pubmed',retmax=10**5 ,retmode='xml',term=keyword)\n",
    "    results = Entrez.read(handle)\n",
    "    return results\n",
    "\n",
    "def mining_pubs(tipo):\n",
    "    \"\"\"\"La función de mining_pubs se encarga de filtrar la data dependiendo de la variable (tipo) que se envió pudiendo ser esta DP AU o AD , los datos  PMID para la extracción de documentos se obtienen gracias a la función download_pubmed que busca los documentos exactos basados en su ID   \"\"\"\n",
    "    #--------------------------Uso del metodo download_pubmed---------------------------------------\n",
    "    results = download_pubmed('Ecuador genomics') #Se usa el metodo download_pubmed para obtener los documentos con una keyword  \n",
    "    #-----------------------------------------------------------------------------------------------\n",
    "    \n",
    "    id_list = results['IdList']                                                  #separamos ids    \n",
    "    ids = ','.join(id_list)    \n",
    "    Entrez.email = 'your.email@example.com'\n",
    "    handle = Entrez.efetch(db='pubmed',rettype='medline',retmode='text',id=ids)  #rescatamos ducumentos por id\n",
    "    all_data = handle.read()                                                     #se lee la data\n",
    "    \n",
    "    if(tipo == \"DP\"):#PMID y DP_year \n",
    "        zipcodes = re.findall(r'PMID-.(.+)', all_data)\n",
    "        zipcodes1 = re.findall(r'DP  -.(.+)', all_data)\n",
    "        all_ = list(zip(zipcodes,zipcodes1))\n",
    "        nom_colum = ['PMID','DP_year']\n",
    "    else:\n",
    "        if(tipo == \"AU\"):#PMID y el num_auth\n",
    "            zipcodes = re.findall(r'PMID-.(.+)|(AU)  -|', all_data) \n",
    "            nom_colum = ['PMID','num_auth']\n",
    "            \n",
    "        elif(tipo == \"AD\"):#country y el num_auth\n",
    "            zipcodes = re.findall(r'PL  -.(.+)|(AU)  -|', all_data)\n",
    "            nom_colum = ['country','num_auth']\n",
    "        mira = list()\n",
    "        for x in zipcodes:\n",
    "            if(x[0]!=''):\n",
    "                mira.append((x[0],''))\n",
    "            elif(x[1]!=''):\n",
    "                mira.append(('',x[1]))\n",
    "        zipcodes= mira       \n",
    "        lista_1 = list()\n",
    "        lista_2 = list()\n",
    "        va_c = 0\n",
    "        for y in zipcodes:\n",
    "            if(y[0] !=''):\n",
    "                x_0 = y[0]\n",
    "                lista_1.append(y[0])\n",
    "                if(va_c != 0):\n",
    "                    lista_2.append(va_c)\n",
    "                    va_c = 0\n",
    "            else:\n",
    "                va_c = va_c+1            \n",
    "        all_ = list(zip(lista_1,lista_2))\n",
    "        \n",
    "    results = pd.DataFrame(all_,columns = nom_colum)             \n",
    "    return results\n",
    "\n",
    "#seccion de ejecicion de codigo y envio de variables\n",
    "#id_list = results['IdList']          #separamos ids \n",
    "if __name__ == '__main__':\n",
    " #--------------------------Se ingresa la varaible tipo para iniciar---------------------------------------\n",
    "    #resultado_final = mining_pubs(\"AU\")  #Enviamos el tipo para el procesamiento ER (DP AU AD)  \n",
    "#---------------------------------------------------------------------------------------------------------\n",
    "    print(\"El nombre de la la funcion es:\",download_pubmed.__name__ )\n",
    "    print(\"Documentacion de la funcion :\",download_pubmed.__doc__)\n",
    "    print(\"__________________________________\")\n",
    "    print(\"El nombre de la la funcion es:\",mining_pubs.__name__ )\n",
    "    print(\"Documentacion de la funcion :\",mining_pubs.__doc__)\n"
   ]
  },
  {
   "cell_type": "markdown",
   "metadata": {},
   "source": [
    "\n",
    "## Ejercicio 2 [1 punto]\n",
    "\n",
    "\n",
    "Utilice la función ```download_pubmed``` para descargar la data con el keyword ```Ecuador proteomics``` e imprima lo siguiente: \n",
    "\n",
    "```python\n",
    "'El número de artículos es: xx' # xx corresponde al número de artículos recuperados\n",
    "\n",
    "'El PMID del primer artículo es: xxxxxxxx' # xxxxxxxx corresponde al ID del artículo en PUDMED\n",
    "\n",
    "```"
   ]
  },
  {
   "cell_type": "code",
   "execution_count": 3,
   "metadata": {},
   "outputs": [
    {
     "name": "stdout",
     "output_type": "stream",
     "text": [
      "El número de artículos es: 193\n",
      "El PMID del primer artículo es: 35121084\n"
     ]
    }
   ],
   "source": [
    "# Escriba aquí su código para el ejercicio 2\n",
    "results = download_pubmed('Ecuador genomics')\n",
    "\n",
    "#imprime el dataframe\n",
    "print('El número de artículos es: '+results['RetMax'])\n",
    "print('El PMID del primer artículo es: '+results['IdList'][0])"
   ]
  },
  {
   "cell_type": "markdown",
   "metadata": {},
   "source": [
    "## Ejercicio 3 [1 punto]\n",
    "\n",
    "Utilice la función ```mining_pubs``` para crear los siguientes dataframes: \n",
    "\n",
    "* pub_year\n",
    "\n",
    "* pub_authors\n",
    "\n",
    "* coutries\n",
    "\n",
    "Muestre los dos primeros y los dos últimos registros de cada dataframe. "
   ]
  },
  {
   "cell_type": "code",
   "execution_count": 4,
   "metadata": {},
   "outputs": [
    {
     "name": "stdout",
     "output_type": "stream",
     "text": [
      "Los primeros dos registros de pub_year son\n"
     ]
    },
    {
     "data": {
      "text/html": [
       "<div>\n",
       "<style scoped>\n",
       "    .dataframe tbody tr th:only-of-type {\n",
       "        vertical-align: middle;\n",
       "    }\n",
       "\n",
       "    .dataframe tbody tr th {\n",
       "        vertical-align: top;\n",
       "    }\n",
       "\n",
       "    .dataframe thead th {\n",
       "        text-align: right;\n",
       "    }\n",
       "</style>\n",
       "<table border=\"1\" class=\"dataframe\">\n",
       "  <thead>\n",
       "    <tr style=\"text-align: right;\">\n",
       "      <th></th>\n",
       "      <th>PMID</th>\n",
       "      <th>DP_year</th>\n",
       "    </tr>\n",
       "  </thead>\n",
       "  <tbody>\n",
       "    <tr>\n",
       "      <th>0</th>\n",
       "      <td>35121084</td>\n",
       "      <td>2022 Feb 2</td>\n",
       "    </tr>\n",
       "    <tr>\n",
       "      <th>1</th>\n",
       "      <td>35120121</td>\n",
       "      <td>2022 Feb</td>\n",
       "    </tr>\n",
       "  </tbody>\n",
       "</table>\n",
       "</div>"
      ],
      "text/plain": [
       "       PMID     DP_year\n",
       "0  35121084  2022 Feb 2\n",
       "1  35120121    2022 Feb"
      ]
     },
     "metadata": {},
     "output_type": "display_data"
    },
    {
     "name": "stdout",
     "output_type": "stream",
     "text": [
      "Los ultimos dos registros de pub_year son\n"
     ]
    },
    {
     "data": {
      "text/html": [
       "<div>\n",
       "<style scoped>\n",
       "    .dataframe tbody tr th:only-of-type {\n",
       "        vertical-align: middle;\n",
       "    }\n",
       "\n",
       "    .dataframe tbody tr th {\n",
       "        vertical-align: top;\n",
       "    }\n",
       "\n",
       "    .dataframe thead th {\n",
       "        text-align: right;\n",
       "    }\n",
       "</style>\n",
       "<table border=\"1\" class=\"dataframe\">\n",
       "  <thead>\n",
       "    <tr style=\"text-align: right;\">\n",
       "      <th></th>\n",
       "      <th>PMID</th>\n",
       "      <th>DP_year</th>\n",
       "    </tr>\n",
       "  </thead>\n",
       "  <tbody>\n",
       "    <tr>\n",
       "      <th>191</th>\n",
       "      <td>17187350</td>\n",
       "      <td>2007 Jan</td>\n",
       "    </tr>\n",
       "    <tr>\n",
       "      <th>192</th>\n",
       "      <td>8661097</td>\n",
       "      <td>1996 Jul 1</td>\n",
       "    </tr>\n",
       "  </tbody>\n",
       "</table>\n",
       "</div>"
      ],
      "text/plain": [
       "         PMID     DP_year\n",
       "191  17187350    2007 Jan\n",
       "192   8661097  1996 Jul 1"
      ]
     },
     "metadata": {},
     "output_type": "display_data"
    },
    {
     "name": "stdout",
     "output_type": "stream",
     "text": [
      "-------------------------------------------\n",
      "Los primeros dos registros de pub_authors son\n"
     ]
    },
    {
     "data": {
      "text/html": [
       "<div>\n",
       "<style scoped>\n",
       "    .dataframe tbody tr th:only-of-type {\n",
       "        vertical-align: middle;\n",
       "    }\n",
       "\n",
       "    .dataframe tbody tr th {\n",
       "        vertical-align: top;\n",
       "    }\n",
       "\n",
       "    .dataframe thead th {\n",
       "        text-align: right;\n",
       "    }\n",
       "</style>\n",
       "<table border=\"1\" class=\"dataframe\">\n",
       "  <thead>\n",
       "    <tr style=\"text-align: right;\">\n",
       "      <th></th>\n",
       "      <th>PMID</th>\n",
       "      <th>num_auth</th>\n",
       "    </tr>\n",
       "  </thead>\n",
       "  <tbody>\n",
       "    <tr>\n",
       "      <th>0</th>\n",
       "      <td>35121084</td>\n",
       "      <td>12</td>\n",
       "    </tr>\n",
       "    <tr>\n",
       "      <th>1</th>\n",
       "      <td>35120121</td>\n",
       "      <td>14</td>\n",
       "    </tr>\n",
       "  </tbody>\n",
       "</table>\n",
       "</div>"
      ],
      "text/plain": [
       "       PMID  num_auth\n",
       "0  35121084        12\n",
       "1  35120121        14"
      ]
     },
     "metadata": {},
     "output_type": "display_data"
    },
    {
     "name": "stdout",
     "output_type": "stream",
     "text": [
      "Los ultimos dos registros de pub_authors son\n"
     ]
    },
    {
     "data": {
      "text/html": [
       "<div>\n",
       "<style scoped>\n",
       "    .dataframe tbody tr th:only-of-type {\n",
       "        vertical-align: middle;\n",
       "    }\n",
       "\n",
       "    .dataframe tbody tr th {\n",
       "        vertical-align: top;\n",
       "    }\n",
       "\n",
       "    .dataframe thead th {\n",
       "        text-align: right;\n",
       "    }\n",
       "</style>\n",
       "<table border=\"1\" class=\"dataframe\">\n",
       "  <thead>\n",
       "    <tr style=\"text-align: right;\">\n",
       "      <th></th>\n",
       "      <th>PMID</th>\n",
       "      <th>num_auth</th>\n",
       "    </tr>\n",
       "  </thead>\n",
       "  <tbody>\n",
       "    <tr>\n",
       "      <th>189</th>\n",
       "      <td>19177531</td>\n",
       "      <td>7</td>\n",
       "    </tr>\n",
       "    <tr>\n",
       "      <th>190</th>\n",
       "      <td>19018989</td>\n",
       "      <td>1</td>\n",
       "    </tr>\n",
       "  </tbody>\n",
       "</table>\n",
       "</div>"
      ],
      "text/plain": [
       "         PMID  num_auth\n",
       "189  19177531         7\n",
       "190  19018989         1"
      ]
     },
     "metadata": {},
     "output_type": "display_data"
    },
    {
     "name": "stdout",
     "output_type": "stream",
     "text": [
      "-------------------------------------------\n",
      "Los primeros dos registros de coutries son\n"
     ]
    },
    {
     "data": {
      "text/html": [
       "<div>\n",
       "<style scoped>\n",
       "    .dataframe tbody tr th:only-of-type {\n",
       "        vertical-align: middle;\n",
       "    }\n",
       "\n",
       "    .dataframe tbody tr th {\n",
       "        vertical-align: top;\n",
       "    }\n",
       "\n",
       "    .dataframe thead th {\n",
       "        text-align: right;\n",
       "    }\n",
       "</style>\n",
       "<table border=\"1\" class=\"dataframe\">\n",
       "  <thead>\n",
       "    <tr style=\"text-align: right;\">\n",
       "      <th></th>\n",
       "      <th>country</th>\n",
       "      <th>num_auth</th>\n",
       "    </tr>\n",
       "  </thead>\n",
       "  <tbody>\n",
       "    <tr>\n",
       "      <th>0</th>\n",
       "      <td>United States</td>\n",
       "      <td>12</td>\n",
       "    </tr>\n",
       "    <tr>\n",
       "      <th>1</th>\n",
       "      <td>United States</td>\n",
       "      <td>14</td>\n",
       "    </tr>\n",
       "  </tbody>\n",
       "</table>\n",
       "</div>"
      ],
      "text/plain": [
       "         country  num_auth\n",
       "0  United States        12\n",
       "1  United States        14"
      ]
     },
     "metadata": {},
     "output_type": "display_data"
    },
    {
     "name": "stdout",
     "output_type": "stream",
     "text": [
      "Los ultimos dos registros de coutries son\n"
     ]
    },
    {
     "data": {
      "text/html": [
       "<div>\n",
       "<style scoped>\n",
       "    .dataframe tbody tr th:only-of-type {\n",
       "        vertical-align: middle;\n",
       "    }\n",
       "\n",
       "    .dataframe tbody tr th {\n",
       "        vertical-align: top;\n",
       "    }\n",
       "\n",
       "    .dataframe thead th {\n",
       "        text-align: right;\n",
       "    }\n",
       "</style>\n",
       "<table border=\"1\" class=\"dataframe\">\n",
       "  <thead>\n",
       "    <tr style=\"text-align: right;\">\n",
       "      <th></th>\n",
       "      <th>country</th>\n",
       "      <th>num_auth</th>\n",
       "    </tr>\n",
       "  </thead>\n",
       "  <tbody>\n",
       "    <tr>\n",
       "      <th>190</th>\n",
       "      <td>England</td>\n",
       "      <td>1</td>\n",
       "    </tr>\n",
       "    <tr>\n",
       "      <th>191</th>\n",
       "      <td>United States</td>\n",
       "      <td>9</td>\n",
       "    </tr>\n",
       "  </tbody>\n",
       "</table>\n",
       "</div>"
      ],
      "text/plain": [
       "           country  num_auth\n",
       "190        England         1\n",
       "191  United States         9"
      ]
     },
     "metadata": {},
     "output_type": "display_data"
    }
   ],
   "source": [
    "# Escriba aquí su código para el ejercicio 3\n",
    "pub_year = mining_pubs('DP')\n",
    "pub_authors = mining_pubs('AU') \n",
    "coutries = mining_pubs('AD')\n",
    "\n",
    "#Presentacion de Tablas   \n",
    "print('Los primeros dos registros de pub_year son')\n",
    "display(pub_year.head(2))\n",
    "print('Los ultimos dos registros de pub_year son')\n",
    "display(pub_year.tail(2))\n",
    "print('-------------------------------------------')\n",
    "\n",
    "print('Los primeros dos registros de pub_authors son')\n",
    "display(pub_authors.head(2))\n",
    "print('Los ultimos dos registros de pub_authors son')\n",
    "display(pub_authors.tail(2))\n",
    "print('-------------------------------------------')\n",
    "\n",
    "print('Los primeros dos registros de coutries son')\n",
    "display(coutries.head(2))\n",
    "print('Los ultimos dos registros de coutries son')\n",
    "display(coutries.tail(2))"
   ]
  },
  {
   "cell_type": "markdown",
   "metadata": {
    "jp-MarkdownHeadingCollapsed": true,
    "tags": []
   },
   "source": [
    "## Ejercicio 4 [2 puntos]\n",
    "\n",
    "Realice la visualización de los datos del ejercicio 3. \n",
    "\n",
    "* ```pubyear```: utilizando el conteo artículos por año, calcule la media y la desviación estandar (asumiendo que la distribución es normal). Realice un gráfico de la distribución normal de sus datos. Coloque el título, leyenda de los ejes \"x\" e \"y\", y la leyenda de la curva (utilice las expresiones matemáticas tipos latex de ser necesario). \n",
    "\n",
    "* ```pub_authors```: realice un boxplot del conteo de autores por artículo. Coloque las leyendas adecuadas para cada eje y el título.  \n",
    "\n",
    "* ```countries```: realice una nube de puntos (adaptación de su tarea), resalte al menos 3 países con flechas. Coloque las leyendas adecuadas para cada eje y el título. \n"
   ]
  },
  {
   "cell_type": "code",
   "execution_count": 7,
   "metadata": {},
   "outputs": [
    {
     "name": "stdout",
     "output_type": "stream",
     "text": [
      "Desviacion Estandar\n",
      "13.045912514398267\n",
      "Media\n",
      "12.0625\n"
     ]
    },
    {
     "data": {
      "image/png": "[encoded data removed]",
      "text/plain": [
       "<Figure size 432x432 with 1 Axes>"
      ]
     },
     "metadata": {
      "needs_background": "light"
     },
     "output_type": "display_data"
    },
    {
     "data": {
      "image/png": "[encoded data removed]",
      "text/plain": [
       "<Figure size 720x720 with 1 Axes>"
      ]
     },
     "metadata": {
      "needs_background": "light"
     },
     "output_type": "display_data"
    },
    {
     "name": "stdout",
     "output_type": "stream",
     "text": [
      "PMID        35121084\n",
      "num_auth         728\n",
      "dtype: object\n"
     ]
    },
    {
     "data": {
      "image/png": "[encoded data removed]",
      "text/plain": [
       "<Figure size 720x720 with 2 Axes>"
      ]
     },
     "metadata": {
      "needs_background": "light"
     },
     "output_type": "display_data"
    }
   ],
   "source": [
    "# Escriba aquí su código para el ejercicio 4\n",
    "import numpy as np \n",
    "import matplotlib.pyplot as plt \n",
    "from scipy.stats import norm \n",
    "import statistics \n",
    "\n",
    "pub_year['conteo'] = pd.to_datetime(pub_year['DP_year'], infer_datetime_format=True)\n",
    "data = pub_year['conteo'].dt.strftime('%Y')\n",
    "data = pd.DataFrame(data, columns = ['conteo'])\n",
    "data = pd.DataFrame(data[\"conteo\"].value_counts())\n",
    "df = pd.DataFrame(data.rename_axis(columns=\"DP_year\"))\n",
    "#print(df)\n",
    "#desvicioon estandar \n",
    "sd = df.conteo.std()\n",
    "print('Desviacion Estandar' )\n",
    "print(sd)\n",
    "#media\n",
    "print('Media')\n",
    "mean = df['conteo'].mean()\n",
    "print(mean)\n",
    "#datos\n",
    "x_axis=list(df['conteo'])\n",
    "\n",
    "#figura 1\n",
    "fig, ax = plt.subplots()\n",
    "x_axis=list(df['conteo'])\n",
    "plt.title(\"Distribución normal conteo de fechas de publicacion por PMID\",fontsize=13)\n",
    "line1, = ax.plot(x_axis, norm.pdf(x_axis, mean, sd), label='Distribucion Normal')\n",
    "plt.xlabel(\"X\",fontsize=13)\n",
    "plt.ylabel(\"Frecuencia\",fontsize=13)\n",
    "ax.legend(handles=[line1])\n",
    "params = plt.gcf()\n",
    "plSize = params.get_size_inches()\n",
    "params.set_size_inches( 6, 6)\n",
    "\n",
    "#figura 2\n",
    "d_cont=list(pub_authors['num_auth'])\n",
    "fig = plt.figure(figsize =(10, 10)) \n",
    "plt.title(\"Box Plot conteo de autores por PMID \",fontsize=13)\n",
    "plt.xlabel(\"Autores\",fontsize=13)\n",
    "plt.ylabel(\"Conteo de Autores\",fontsize=13)\n",
    "plt.boxplot(d_cont)\n",
    "plt.show()\n",
    "\n",
    "autores= pd.DataFrame(data=pub_authors)\n",
    "print(autores.max())\n",
    "\n",
    "\n",
    "#figura 3\n",
    "flat_list = coutries['country'].tolist()\n",
    "resultantList = [] \n",
    "for element in flat_list:\n",
    "    if element not in resultantList:\n",
    "        resultantList.append(element)\n",
    "\n",
    "unique_zipcodes = list(set(resultantList))\n",
    "unique_zipcodes.sort()\n",
    "\n",
    "import pandas as pd\n",
    "data = pd.read_csv('./sample_data/countries.csv', engine='python', skipfooter=3)\n",
    "data_name = data[data.name.isin(resultantList)]\n",
    "import matplotlib.pyplot as plt\n",
    "plt.scatter(data_name.longitude, data_name.latitude, s=50, c=data_name.latitude)\n",
    "plt.colorbar()\n",
    "\n",
    "ard = dict(arrowstyle=\"->\")\n",
    "plt.annotate('USA', xy = (-95.712891, 37.09024), \n",
    "               xytext = (-95.712891, 40), arrowprops = ard)\n",
    "plt.annotate('BRAZIL', xy = (-51.92528, -14.235004), \n",
    "               xytext = (-51.92528, -11), arrowprops= ard)\n",
    "plt.annotate('Austria', xy = (14.550072 , 47.516231), \n",
    "               xytext = (18.550072, 51.516231), arrowprops= ard)\n",
    "\n",
    "plt.title(\"Nube de puntos - paises encontrados \",fontsize=13)\n",
    "plt.xlabel(\"Latitud\",fontsize=13)\n",
    "plt.ylabel(\"Longitud\",fontsize=13)\n",
    "\n",
    "params = plt.gcf()\n",
    "plSize = params.get_size_inches()\n",
    "params.set_size_inches( 10, 10 )"
   ]
  },
  {
   "cell_type": "markdown",
   "metadata": {},
   "source": [
    "## Ejercicio 5 [1 punto]\n",
    "\n",
    "Interprete los resultados del **ejercicio 4**"
   ]
  },
  {
   "cell_type": "markdown",
   "metadata": {},
   "source": [
    "### Escriba la respuesta del ejercicio 5\n"
   ]
  },
  {
   "cell_type": "markdown",
   "metadata": {},
   "source": [
    "## Ejercicio 6 [2 puntos]\n",
    "\n",
    "Para algún gen de interés, realice lo siguiente: \n",
    "\n",
    "1. Una búsqueda en la página del [NCBI nucleotide](https://www.ncbi.nlm.nih.gov/nucleotide/).\n",
    "\n",
    "2. Descargue el ```Accession List``` de su búsqueda.\n",
    "\n",
    "3. Cargue el ```Accession List``` en este notebook y haga una descarga de la data tipo ```genbank``` utilizando los diez primeros IDs de accesión. \n",
    "\n",
    "4. Arme un árbol filogenético para los resultados del paso 3.\n",
    "\n",
    "5. Interprete el árbol del paso 4. "
   ]
  },
  {
   "cell_type": "code",
   "execution_count": 13,
   "metadata": {},
   "outputs": [
    {
     "data": {
      "image/png": "[encoded data removed]",
      "text/plain": [
       "<Figure size 432x288 with 1 Axes>"
      ]
     },
     "metadata": {
      "needs_background": "light"
     },
     "output_type": "display_data"
    }
   ],
   "source": [
    "# Escriba aquí su código para el ejercicio 6\n",
    "from Bio.Phylo import PhyloXML\n",
    "from Bio import SeqIO\n",
    "import pylab\n",
    "from Bio import Phylo\n",
    "\n",
    "tree = Phylo.read(\"./sample_data/apaf.xml\", \"phyloxml\")\n",
    "tree.ladderize()  # Flip branches so deeper clades are displayed at top\n",
    "Phylo.draw(tree)"
   ]
  },
  {
   "cell_type": "markdown",
   "metadata": {},
   "source": [
    "**Escriba aquí la interpretación del árbol**"
   ]
  },
  {
   "cell_type": "markdown",
   "metadata": {},
   "source": [
    "## Ejercicio 7 [1 punto]\n",
    "\n",
    "\n",
    "1. Cree en GitHub un repositorio de nombre ```GBI6_ExamenPython```. \n",
    "2. Cree un archivo ```Readme.md``` que debe tener lo siguiente: \n",
    "- Datos personales\n",
    "- Características del computador\n",
    "- Versión de Python/Anaconda y de cada uno de los módulos/paquetes y utilizados\n",
    "- Explicación de la data utilizada\n",
    "\n",
    "3. Cree un directorio de nombre ```data``` donde deben estar guardado la data utilizada \n",
    "4. Realice al menos 1 control de la versión (commits) por cada ejercicio (del 1 al 6), con un mensaje que inicie como: \n",
    "\n",
    "```sh \n",
    "Carlitos Alimaña ha realizado .....  \n",
    "```"
   ]
  }
 ],
 "metadata": {
  "kernelspec": {
   "display_name": "Python 3 (ipykernel)",
   "language": "python",
   "name": "python3"
  },
  "language_info": {
   "codemirror_mode": {
    "name": "ipython",
    "version": 3
   },
   "file_extension": ".py",
   "mimetype": "text/x-python",
   "name": "python",
   "nbconvert_exporter": "python",
   "pygments_lexer": "ipython3",
   "version": "3.8.8"
  },
  "latex_envs": {
   "LaTeX_envs_menu_present": true,
   "autoclose": false,
   "autocomplete": true,
   "bibliofile": "biblio.bib",
   "cite_by": "apalike",
   "current_citInitial": 1,
   "eqLabelWithNumbers": true,
   "eqNumInitial": 1,
   "hotkeys": {
    "equation": "Ctrl-E",
    "itemize": "Ctrl-I"
   },
   "labels_anchors": false,
   "latex_user_defs": false,
   "report_style_numbering": false,
   "user_envs_cfg": false
  },
  "toc": {
   "base_numbering": 1,
   "nav_menu": {},
   "number_sections": true,
   "sideBar": false,
   "skip_h1_title": false,
   "title_cell": "Table of Contents",
   "title_sidebar": "Contents",
   "toc_cell": false,
   "toc_position": {
    "height": "1152.67px",
    "left": "41px",
    "top": "110px",
    "width": "253.458px"
   },
   "toc_section_display": true,
   "toc_window_display": false
  },
  "varInspector": {
   "cols": {
    "lenName": 16,
    "lenType": 16,
    "lenVar": 40
   },
   "kernels_config": {
    "python": {
     "delete_cmd_postfix": "",
     "delete_cmd_prefix": "del ",
     "library": "var_list.py",
     "varRefreshCmd": "print(var_dic_list())"
    },
    "r": {
     "delete_cmd_postfix": ") ",
     "delete_cmd_prefix": "rm(",
     "library": "var_list.r",
     "varRefreshCmd": "cat(var_dic_list()) "
    }
   },
   "types_to_exclude": [
    "module",
    "function",
    "builtin_function_or_method",
    "instance",
    "_Feature"
   ],
   "window_display": false
  }
 },
 "nbformat": 4,
 "nbformat_minor": 4
}
