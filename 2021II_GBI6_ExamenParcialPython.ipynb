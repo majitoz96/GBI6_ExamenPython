{
 "cells": [
  {
   "cell_type": "markdown",
   "metadata": {},
   "source": [
    "<img src=\"https://www.ikiam.edu.ec/img/logo-ikiam-grey.png\" width=300 height=240 />\n",
    "\n",
    "# EXAMEN PARCIAL PYTHON\n",
    "    \n",
    "\n",
    "## GBI6-2021II: BIOINFORMÁTICA\n",
    "\n",
    "**Auquilla Villamagua Maria Jose** \n",
    "\n",
    "**18-02-2021**"
   ]
  },
  {
   "cell_type": "markdown",
   "metadata": {},
   "source": [
    "<font color='red'>NO AGREGUE NUEVAS CELDAS, UTILICE ÚNICAMENTE LAS QUE ESTÁN CREADAS</font>\n"
   ]
  },
  {
   "cell_type": "markdown",
   "metadata": {},
   "source": [
    "### REQUERIMIENTOS PARA EL EXAMEN\n",
    "Para este examen se requiere dos documentos: \n",
    "\n",
    "1. Archivo ```miningscience.py``` donde tendrá dos funciones:\n",
    "\n",
    "2. Archivo ```2021II_GBI6_ExamenParcialPython``` donde se llamará las funciones y se obtendrá resultados."
   ]
  },
  {
   "cell_type": "markdown",
   "metadata": {},
   "source": [
    "## Ejercicio 1 [2 puntos]\n",
    "Cree el archivo ```miningscience.py``` con las siguientes dosfunciones:\n",
    "    \n",
    "i. ```download_pubmed```: para descargar la data de PubMed utilizando el **ENTREZ** de Biopython. El parámetro de entrada para la función es el ```keyword```. \n",
    "    \n",
    "ii. ```mining_pubs```: esta función debe utilizar el módulo **re** y utilizar el párametro ```tipo``` para realizar lo siguiente:\n",
    "        \n",
    "* Si el tipo es \"DP\" recupera el año de publicación del artículo. El retorno es un *dataframe* con el **PMID** y el **DP_year**.\n",
    "      \n",
    "* Si el tipo es \"AU\" recupera el número de autores por **PMID**. El retorno es un *dataframe* con el **PMID** y el **num_auth**. \n",
    "      \n",
    "* Si el tipo es \"AD\" recupera el conteo de autores por país. El retorno es un *dataframe* con el **country** y el **num_auth**. \n",
    "\n",
    "* *Puede utilizar un ```if``` dentro de la función.* \n",
    "\n",
    "* *Cree un docstring para cada función.* \n",
    "\n",
    "Luego de crear las funciones, cargue el módulo ```miningscience``` como ```msc``` e imprima docstring de cada función.\n",
    "\n",
    "\n"
   ]
  },
  {
   "cell_type": "code",
   "execution_count": 2,
   "metadata": {},
   "outputs": [
    {
     "name": "stdout",
     "output_type": "stream",
     "text": [
      "Descripcion de la Funcion #1 \n",
      "Help on function download_pubmed in module miningscience:\n",
      "\n",
      "download_pubmed(keyword)\n",
      "    \"La funcion download_pubmed se encarga de rescatar la id de los documentos que esten relacionados con la keyword que se envio en la base de datos de pubmed\n",
      "\n",
      "Descripcion de la Funcion #2\n",
      "Help on function mining_pubs in module miningscience:\n",
      "\n",
      "mining_pubs(tipo)\n",
      "    \"La función de mining_pubs se encarga de filtrar la data dependiendo de la variable (tipo) que se envió pudiendo ser esta DP AU o AD , los datos  PMID para la extracción de documentos se obtienen gracias a la función download_pubmed que busca los documentos exactos basados en su ID\n",
      "\n"
     ]
    }
   ],
   "source": [
    "#%pip install -r requirements.txt\n",
    "%reload_ext autoreload\n",
    "%autoreload 2\n",
    "import importlib\n",
    "import miningscience\n",
    "importlib.reload(miningscience)\n",
    "import miningscience as msc\n",
    "\n",
    "#Todas las funciones son llamadas de miningscience (download_pubmed,mining_pubs) y luego fueron usadasdurante el desarrollo\n",
    "\n",
    "print(\"Descripcion de la Funcion #1 \")\n",
    "help(msc.download_pubmed)\n",
    "print(\"Descripcion de la Funcion #2\")\n",
    "help(msc.mining_pubs)"
   ]
  },
  {
   "cell_type": "markdown",
   "metadata": {},
   "source": [
    "\n",
    "## Ejercicio 2 [1 punto]\n",
    "\n",
    "\n",
    "Utilice la función ```download_pubmed``` para descargar la data con el keyword ```Ecuador proteomics``` e imprima lo siguiente: \n",
    "\n",
    "```python\n",
    "'El número de artículos es: xx' # xx corresponde al número de artículos recuperados\n",
    "\n",
    "'El PMID del primer artículo es: xxxxxxxx' # xxxxxxxx corresponde al ID del artículo en PUDMED\n",
    "\n",
    "```"
   ]
  },
  {
   "cell_type": "code",
   "execution_count": 3,
   "metadata": {},
   "outputs": [
    {
     "ename": "NameError",
     "evalue": "name 'download_pubmed' is not defined",
     "output_type": "error",
     "traceback": [
      "\u001b[1;31m---------------------------------------------------------------------------\u001b[0m",
      "\u001b[1;31mNameError\u001b[0m                                 Traceback (most recent call last)",
      "\u001b[1;32m<ipython-input-3-b6172ac17063>\u001b[0m in \u001b[0;36m<module>\u001b[1;34m\u001b[0m\n\u001b[0;32m      1\u001b[0m \u001b[1;31m# Escriba aquí su código para el ejercicio 2\u001b[0m\u001b[1;33m\u001b[0m\u001b[1;33m\u001b[0m\u001b[1;33m\u001b[0m\u001b[0m\n\u001b[1;32m----> 2\u001b[1;33m \u001b[0mresults\u001b[0m \u001b[1;33m=\u001b[0m \u001b[0mdownload_pubmed\u001b[0m\u001b[1;33m(\u001b[0m\u001b[1;34m'Ecuador genomics'\u001b[0m\u001b[1;33m)\u001b[0m\u001b[1;33m\u001b[0m\u001b[1;33m\u001b[0m\u001b[0m\n\u001b[0m\u001b[0;32m      3\u001b[0m \u001b[1;33m\u001b[0m\u001b[0m\n\u001b[0;32m      4\u001b[0m \u001b[1;31m#imprime el dataframe\u001b[0m\u001b[1;33m\u001b[0m\u001b[1;33m\u001b[0m\u001b[1;33m\u001b[0m\u001b[0m\n\u001b[0;32m      5\u001b[0m \u001b[0mprint\u001b[0m\u001b[1;33m(\u001b[0m\u001b[1;34m'El número de artículos es: '\u001b[0m\u001b[1;33m+\u001b[0m\u001b[0mresults\u001b[0m\u001b[1;33m[\u001b[0m\u001b[1;34m'RetMax'\u001b[0m\u001b[1;33m]\u001b[0m\u001b[1;33m)\u001b[0m\u001b[1;33m\u001b[0m\u001b[1;33m\u001b[0m\u001b[0m\n",
      "\u001b[1;31mNameError\u001b[0m: name 'download_pubmed' is not defined"
     ]
    }
   ],
   "source": [
    "# Escriba aquí su código para el ejercicio 2\n",
    "results = download_pubmed('Ecuador genomics')\n",
    "\n",
    "#imprime el dataframe\n",
    "print('El número de artículos es: '+results['RetMax'])\n",
    "print('El PMID del primer artículo es: '+results['IdList'][0])"
   ]
  },
  {
   "cell_type": "markdown",
   "metadata": {},
   "source": [
    "## Ejercicio 3 [1 punto]\n",
    "\n",
    "Utilice la función ```mining_pubs``` para crear los siguientes dataframes: \n",
    "\n",
    "* pub_year\n",
    "\n",
    "* pub_authors\n",
    "\n",
    "* coutries\n",
    "\n",
    "Muestre los dos primeros y los dos últimos registros de cada dataframe. "
   ]
  },
  {
   "cell_type": "code",
   "execution_count": null,
   "metadata": {},
   "outputs": [
    {
     "name": "stdout",
     "output_type": "stream",
     "text": [
      "Los primeros dos registros de pub_year son\n"
     ]
    },
    {
     "data": {
      "text/html": [
       "<div>\n",
       "<style scoped>\n",
       "    .dataframe tbody tr th:only-of-type {\n",
       "        vertical-align: middle;\n",
       "    }\n",
       "\n",
       "    .dataframe tbody tr th {\n",
       "        vertical-align: top;\n",
       "    }\n",
       "\n",
       "    .dataframe thead th {\n",
       "        text-align: right;\n",
       "    }\n",
       "</style>\n",
       "<table border=\"1\" class=\"dataframe\">\n",
       "  <thead>\n",
       "    <tr style=\"text-align: right;\">\n",
       "      <th></th>\n",
       "      <th>PMID</th>\n",
       "      <th>DP_year</th>\n",
       "    </tr>\n",
       "  </thead>\n",
       "  <tbody>\n",
       "    <tr>\n",
       "      <th>0</th>\n",
       "      <td>35121084</td>\n",
       "      <td>2022 Feb 2</td>\n",
       "    </tr>\n",
       "    <tr>\n",
       "      <th>1</th>\n",
       "      <td>35120121</td>\n",
       "      <td>2022 Feb</td>\n",
       "    </tr>\n",
       "  </tbody>\n",
       "</table>\n",
       "</div>"
      ],
      "text/plain": [
       "       PMID     DP_year\n",
       "0  35121084  2022 Feb 2\n",
       "1  35120121    2022 Feb"
      ]
     },
     "metadata": {},
     "output_type": "display_data"
    },
    {
     "name": "stdout",
     "output_type": "stream",
     "text": [
      "Los ultimos dos registros de pub_year son\n"
     ]
    },
    {
     "data": {
      "text/html": [
       "<div>\n",
       "<style scoped>\n",
       "    .dataframe tbody tr th:only-of-type {\n",
       "        vertical-align: middle;\n",
       "    }\n",
       "\n",
       "    .dataframe tbody tr th {\n",
       "        vertical-align: top;\n",
       "    }\n",
       "\n",
       "    .dataframe thead th {\n",
       "        text-align: right;\n",
       "    }\n",
       "</style>\n",
       "<table border=\"1\" class=\"dataframe\">\n",
       "  <thead>\n",
       "    <tr style=\"text-align: right;\">\n",
       "      <th></th>\n",
       "      <th>PMID</th>\n",
       "      <th>DP_year</th>\n",
       "    </tr>\n",
       "  </thead>\n",
       "  <tbody>\n",
       "    <tr>\n",
       "      <th>191</th>\n",
       "      <td>17187350</td>\n",
       "      <td>2007 Jan</td>\n",
       "    </tr>\n",
       "    <tr>\n",
       "      <th>192</th>\n",
       "      <td>8661097</td>\n",
       "      <td>1996 Jul 1</td>\n",
       "    </tr>\n",
       "  </tbody>\n",
       "</table>\n",
       "</div>"
      ],
      "text/plain": [
       "         PMID     DP_year\n",
       "191  17187350    2007 Jan\n",
       "192   8661097  1996 Jul 1"
      ]
     },
     "metadata": {},
     "output_type": "display_data"
    },
    {
     "name": "stdout",
     "output_type": "stream",
     "text": [
      "-------------------------------------------\n",
      "Los primeros dos registros de pub_authors son\n"
     ]
    },
    {
     "data": {
      "text/html": [
       "<div>\n",
       "<style scoped>\n",
       "    .dataframe tbody tr th:only-of-type {\n",
       "        vertical-align: middle;\n",
       "    }\n",
       "\n",
       "    .dataframe tbody tr th {\n",
       "        vertical-align: top;\n",
       "    }\n",
       "\n",
       "    .dataframe thead th {\n",
       "        text-align: right;\n",
       "    }\n",
       "</style>\n",
       "<table border=\"1\" class=\"dataframe\">\n",
       "  <thead>\n",
       "    <tr style=\"text-align: right;\">\n",
       "      <th></th>\n",
       "      <th>PMID</th>\n",
       "      <th>num_auth</th>\n",
       "    </tr>\n",
       "  </thead>\n",
       "  <tbody>\n",
       "    <tr>\n",
       "      <th>0</th>\n",
       "      <td>35121084</td>\n",
       "      <td>12</td>\n",
       "    </tr>\n",
       "    <tr>\n",
       "      <th>1</th>\n",
       "      <td>35120121</td>\n",
       "      <td>14</td>\n",
       "    </tr>\n",
       "  </tbody>\n",
       "</table>\n",
       "</div>"
      ],
      "text/plain": [
       "       PMID  num_auth\n",
       "0  35121084        12\n",
       "1  35120121        14"
      ]
     },
     "metadata": {},
     "output_type": "display_data"
    },
    {
     "name": "stdout",
     "output_type": "stream",
     "text": [
      "Los ultimos dos registros de pub_authors son\n"
     ]
    },
    {
     "data": {
      "text/html": [
       "<div>\n",
       "<style scoped>\n",
       "    .dataframe tbody tr th:only-of-type {\n",
       "        vertical-align: middle;\n",
       "    }\n",
       "\n",
       "    .dataframe tbody tr th {\n",
       "        vertical-align: top;\n",
       "    }\n",
       "\n",
       "    .dataframe thead th {\n",
       "        text-align: right;\n",
       "    }\n",
       "</style>\n",
       "<table border=\"1\" class=\"dataframe\">\n",
       "  <thead>\n",
       "    <tr style=\"text-align: right;\">\n",
       "      <th></th>\n",
       "      <th>PMID</th>\n",
       "      <th>num_auth</th>\n",
       "    </tr>\n",
       "  </thead>\n",
       "  <tbody>\n",
       "    <tr>\n",
       "      <th>189</th>\n",
       "      <td>19177531</td>\n",
       "      <td>7</td>\n",
       "    </tr>\n",
       "    <tr>\n",
       "      <th>190</th>\n",
       "      <td>19018989</td>\n",
       "      <td>1</td>\n",
       "    </tr>\n",
       "  </tbody>\n",
       "</table>\n",
       "</div>"
      ],
      "text/plain": [
       "         PMID  num_auth\n",
       "189  19177531         7\n",
       "190  19018989         1"
      ]
     },
     "metadata": {},
     "output_type": "display_data"
    },
    {
     "name": "stdout",
     "output_type": "stream",
     "text": [
      "-------------------------------------------\n",
      "Los primeros dos registros de coutries son\n"
     ]
    },
    {
     "data": {
      "text/html": [
       "<div>\n",
       "<style scoped>\n",
       "    .dataframe tbody tr th:only-of-type {\n",
       "        vertical-align: middle;\n",
       "    }\n",
       "\n",
       "    .dataframe tbody tr th {\n",
       "        vertical-align: top;\n",
       "    }\n",
       "\n",
       "    .dataframe thead th {\n",
       "        text-align: right;\n",
       "    }\n",
       "</style>\n",
       "<table border=\"1\" class=\"dataframe\">\n",
       "  <thead>\n",
       "    <tr style=\"text-align: right;\">\n",
       "      <th></th>\n",
       "      <th>country</th>\n",
       "      <th>num_auth</th>\n",
       "    </tr>\n",
       "  </thead>\n",
       "  <tbody>\n",
       "    <tr>\n",
       "      <th>0</th>\n",
       "      <td>United States</td>\n",
       "      <td>12</td>\n",
       "    </tr>\n",
       "    <tr>\n",
       "      <th>1</th>\n",
       "      <td>United States</td>\n",
       "      <td>14</td>\n",
       "    </tr>\n",
       "  </tbody>\n",
       "</table>\n",
       "</div>"
      ],
      "text/plain": [
       "         country  num_auth\n",
       "0  United States        12\n",
       "1  United States        14"
      ]
     },
     "metadata": {},
     "output_type": "display_data"
    },
    {
     "name": "stdout",
     "output_type": "stream",
     "text": [
      "Los ultimos dos registros de coutries son\n"
     ]
    },
    {
     "data": {
      "text/html": [
       "<div>\n",
       "<style scoped>\n",
       "    .dataframe tbody tr th:only-of-type {\n",
       "        vertical-align: middle;\n",
       "    }\n",
       "\n",
       "    .dataframe tbody tr th {\n",
       "        vertical-align: top;\n",
       "    }\n",
       "\n",
       "    .dataframe thead th {\n",
       "        text-align: right;\n",
       "    }\n",
       "</style>\n",
       "<table border=\"1\" class=\"dataframe\">\n",
       "  <thead>\n",
       "    <tr style=\"text-align: right;\">\n",
       "      <th></th>\n",
       "      <th>country</th>\n",
       "      <th>num_auth</th>\n",
       "    </tr>\n",
       "  </thead>\n",
       "  <tbody>\n",
       "    <tr>\n",
       "      <th>190</th>\n",
       "      <td>England</td>\n",
       "      <td>1</td>\n",
       "    </tr>\n",
       "    <tr>\n",
       "      <th>191</th>\n",
       "      <td>United States</td>\n",
       "      <td>9</td>\n",
       "    </tr>\n",
       "  </tbody>\n",
       "</table>\n",
       "</div>"
      ],
      "text/plain": [
       "           country  num_auth\n",
       "190        England         1\n",
       "191  United States         9"
      ]
     },
     "metadata": {},
     "output_type": "display_data"
    }
   ],
   "source": [
    "# Escriba aquí su código para el ejercicio 3\n",
    "pub_year = mining_pubs('DP')\n",
    "pub_authors = mining_pubs('AU') \n",
    "coutries = mining_pubs('AD')\n",
    "\n",
    "#Presentacion de Tablas   \n",
    "print('Los primeros dos registros de pub_year son')\n",
    "display(pub_year.head(2))\n",
    "print('Los ultimos dos registros de pub_year son')\n",
    "display(pub_year.tail(2))\n",
    "print('-------------------------------------------')\n",
    "\n",
    "print('Los primeros dos registros de pub_authors son')\n",
    "display(pub_authors.head(2))\n",
    "print('Los ultimos dos registros de pub_authors son')\n",
    "display(pub_authors.tail(2))\n",
    "print('-------------------------------------------')\n",
    "\n",
    "print('Los primeros dos registros de coutries son')\n",
    "display(coutries.head(2))\n",
    "print('Los ultimos dos registros de coutries son')\n",
    "display(coutries.tail(2))"
   ]
  },
  {
   "cell_type": "markdown",
   "metadata": {
    "jp-MarkdownHeadingCollapsed": true,
    "tags": []
   },
   "source": [
    "## Ejercicio 4 [2 puntos]\n",
    "\n",
    "Realice la visualización de los datos del ejercicio 3. \n",
    "\n",
    "* ```pubyear```: utilizando el conteo artículos por año, calcule la media y la desviación estandar (asumiendo que la distribución es normal). Realice un gráfico de la distribución normal de sus datos. Coloque el título, leyenda de los ejes \"x\" e \"y\", y la leyenda de la curva (utilice las expresiones matemáticas tipos latex de ser necesario). \n",
    "\n",
    "* ```pub_authors```: realice un boxplot del conteo de autores por artículo. Coloque las leyendas adecuadas para cada eje y el título.  \n",
    "\n",
    "* ```countries```: realice una nube de puntos (adaptación de su tarea), resalte al menos 3 países con flechas. Coloque las leyendas adecuadas para cada eje y el título. \n"
   ]
  },
  {
   "cell_type": "code",
   "execution_count": null,
   "metadata": {},
   "outputs": [
    {
     "name": "stdout",
     "output_type": "stream",
     "text": [
      "Desviacion Estandar\n",
      "13.045912514398267\n",
      "Media\n",
      "12.0625\n"
     ]
    },
    {
     "data": {
      "image/png": "[encoded data removed]",
      "text/plain": [
       "<Figure size 432x432 with 1 Axes>"
      ]
     },
     "metadata": {
      "needs_background": "light"
     },
     "output_type": "display_data"
    },
    {
     "data": {
      "image/png": "[encoded data removed]",
      "text/plain": [
       "<Figure size 720x720 with 1 Axes>"
      ]
     },
     "metadata": {
      "needs_background": "light"
     },
     "output_type": "display_data"
    },
    {
     "name": "stdout",
     "output_type": "stream",
     "text": [
      "PMID        35121084\n",
      "num_auth         728\n",
      "dtype: object\n"
     ]
    },
    {
     "data": {
      "image/png": "[encoded data removed]",
      "text/plain": [
       "<Figure size 720x720 with 2 Axes>"
      ]
     },
     "metadata": {
      "needs_background": "light"
     },
     "output_type": "display_data"
    }
   ],
   "source": [
    "# Escriba aquí su código para el ejercicio 4\n",
    "import numpy as np \n",
    "import matplotlib.pyplot as plt \n",
    "from scipy.stats import norm \n",
    "import statistics \n",
    "\n",
    "pub_year['conteo'] = pd.to_datetime(pub_year['DP_year'], infer_datetime_format=True)\n",
    "data = pub_year['conteo'].dt.strftime('%Y')\n",
    "data = pd.DataFrame(data, columns = ['conteo'])\n",
    "data = pd.DataFrame(data[\"conteo\"].value_counts())\n",
    "df = pd.DataFrame(data.rename_axis(columns=\"DP_year\"))\n",
    "#print(df)\n",
    "#desvicioon estandar \n",
    "sd = df.conteo.std()\n",
    "print('Desviacion Estandar' )\n",
    "print(sd)\n",
    "#media\n",
    "print('Media')\n",
    "mean = df['conteo'].mean()\n",
    "print(mean)\n",
    "#datos\n",
    "x_axis=list(df['conteo'])\n",
    "\n",
    "#figura 1\n",
    "fig, ax = plt.subplots()\n",
    "x_axis=list(df['conteo'])\n",
    "plt.title(\"Distribución normal conteo de fechas de publicacion por PMID\",fontsize=13)\n",
    "line1, = ax.plot(x_axis, norm.pdf(x_axis, mean, sd), label='Distribucion Normal')\n",
    "plt.xlabel(\"X\",fontsize=13)\n",
    "plt.ylabel(\"Frecuencia\",fontsize=13)\n",
    "ax.legend(handles=[line1])\n",
    "params = plt.gcf()\n",
    "plSize = params.get_size_inches()\n",
    "params.set_size_inches( 6, 6)\n",
    "\n",
    "#figura 2\n",
    "d_cont=list(pub_authors['num_auth'])\n",
    "fig = plt.figure(figsize =(10, 10)) \n",
    "plt.title(\"Box Plot conteo de autores por PMID \",fontsize=13)\n",
    "plt.xlabel(\"Autores\",fontsize=13)\n",
    "plt.ylabel(\"Conteo de Autores\",fontsize=13)\n",
    "plt.boxplot(d_cont)\n",
    "plt.show()\n",
    "\n",
    "autores= pd.DataFrame(data=pub_authors)\n",
    "print(autores.max())\n",
    "\n",
    "\n",
    "#figura 3\n",
    "flat_list = coutries['country'].tolist()\n",
    "resultantList = [] \n",
    "for element in flat_list:\n",
    "    if element not in resultantList:\n",
    "        resultantList.append(element)\n",
    "\n",
    "unique_zipcodes = list(set(resultantList))\n",
    "unique_zipcodes.sort()\n",
    "\n",
    "import pandas as pd\n",
    "data = pd.read_csv('./sample_data/countries.csv', engine='python', skipfooter=3)\n",
    "data_name = data[data.name.isin(resultantList)]\n",
    "import matplotlib.pyplot as plt\n",
    "plt.scatter(data_name.longitude, data_name.latitude, s=50, c=data_name.latitude)\n",
    "plt.colorbar()\n",
    "\n",
    "ard = dict(arrowstyle=\"->\")\n",
    "plt.annotate('USA', xy = (-95.712891, 37.09024), \n",
    "               xytext = (-95.712891, 40), arrowprops = ard)\n",
    "plt.annotate('BRAZIL', xy = (-51.92528, -14.235004), \n",
    "               xytext = (-51.92528, -11), arrowprops= ard)\n",
    "plt.annotate('Austria', xy = (14.550072 , 47.516231), \n",
    "               xytext = (18.550072, 51.516231), arrowprops= ard)\n",
    "\n",
    "plt.title(\"Nube de puntos - paises encontrados \",fontsize=13)\n",
    "plt.xlabel(\"Latitud\",fontsize=13)\n",
    "plt.ylabel(\"Longitud\",fontsize=13)\n",
    "\n",
    "params = plt.gcf()\n",
    "plSize = params.get_size_inches()\n",
    "params.set_size_inches( 10, 10 )"
   ]
  },
  {
   "cell_type": "markdown",
   "metadata": {},
   "source": [
    "## Ejercicio 5 [1 punto]\n",
    "\n",
    "Interprete los resultados del **ejercicio 4**"
   ]
  },
  {
   "cell_type": "markdown",
   "metadata": {},
   "source": [
    "### Escriba la respuesta del ejercicio 5\n"
   ]
  },
  {
   "cell_type": "markdown",
   "metadata": {},
   "source": [
    "## Ejercicio 6 [2 puntos]\n",
    "\n",
    "Para algún gen de interés, realice lo siguiente: \n",
    "\n",
    "1. Una búsqueda en la página del [NCBI nucleotide](https://www.ncbi.nlm.nih.gov/nucleotide/).\n",
    "\n",
    "2. Descargue el ```Accession List``` de su búsqueda.\n",
    "\n",
    "3. Cargue el ```Accession List``` en este notebook y haga una descarga de la data tipo ```genbank``` utilizando los diez primeros IDs de accesión. \n",
    "\n",
    "4. Arme un árbol filogenético para los resultados del paso 3.\n",
    "\n",
    "5. Interprete el árbol del paso 4. "
   ]
  },
  {
   "cell_type": "code",
   "execution_count": 7,
   "metadata": {},
   "outputs": [
    {
     "name": "stdout",
     "output_type": "stream",
     "text": [
      "\"C:\\Program Files (x86)\\ClustalW2\\clustalw2.exe\" -infile=./sample_data/sequence.fasta\n",
      "Alignment with 10 rows and 716 columns\n",
      "--------------------------------------------...--- MN389132.1Reishia\n",
      "---------------------------------TACATTATATA...--- MN389130.1Reishia\n",
      "--------------------------------------------...--- MN389131.1Reishia\n",
      "--------------------------------------------...--- MN389127.1Reishia\n",
      "--------------------------------------------...--- MN389128.1Reishia\n",
      "--------------------------------------------...--- MN389129.1Reishia\n",
      "TATATTTTAACAGCCGCGGTACTCTGACCGTGCAAAGGTAGCAT...AAA MG564471.1Reishia\n",
      "TATATTTTAACAGCCGCGGTACTCTGACCGTGCAAAGGTAGCAT...AAA MG564469.1Reishia\n",
      "TATATTTTAACAGCCGCGGTACTCTGACCGTGCAAAGGTAGCAT...AAA MG564470.1Reishia\n",
      "TATATTTTAACAGCCGCGGTACTCTGACCGTGCAAAGGTAGCAT...AAA MG564468.1Reishia\n",
      " , MN389132.1Reishia\n",
      " |\n",
      " | MN389130.1Reishia\n",
      " |\n",
      " | MN389131.1Reishia\n",
      " |\n",
      " | MN389127.1Reishia\n",
      " |\n",
      " , MN389129.1Reishia\n",
      " |\n",
      " |                                                         , MG564471.1Reishia\n",
      "_|                                                        ,|\n",
      " |                                                        || MG564469.1Reishia\n",
      " |________________________________________________________|\n",
      " |                                                        |, MG564470.1Reishia\n",
      " |                                                        ||\n",
      " |                                                         | MG564468.1Reishia\n",
      " |\n",
      " | MN389128.1Reishia\n",
      "\n",
      "<class 'Bio.Align.MultipleSeqAlignment'>\n",
      "MN389132.1Reishia\t0\n",
      "MN389130.1Reishia\t0.04748603351955305\t0\n",
      "MN389131.1Reishia\t0.0041899441340782495\t0.0460893854748603\t0\n",
      "MN389127.1Reishia\t0.026536312849162025\t0.06424581005586594\t0.022346368715083775\t0\n",
      "MN389128.1Reishia\t0.013966480446927387\t0.05307262569832405\t0.009776536312849138\t0.020949720670391025\t0\n",
      "MN389129.1Reishia\t0.009776536312849138\t0.0516759776536313\t0.005586592178770999\t0.027932960893854775\t0.009776536312849138\t0\n",
      "MG564471.1Reishia\t0.6131284916201117\t0.6005586592178771\t0.6131284916201117\t0.6159217877094971\t0.6159217877094971\t0.6159217877094971\t0\n",
      "MG564469.1Reishia\t0.6131284916201117\t0.6005586592178771\t0.6131284916201117\t0.6159217877094971\t0.6159217877094971\t0.6159217877094971\t0.0\t0\n",
      "MG564470.1Reishia\t0.6131284916201117\t0.6005586592178771\t0.6131284916201117\t0.6159217877094971\t0.6159217877094971\t0.6159217877094971\t0.0027932960893854997\t0.0027932960893854997\t0\n",
      "MG564468.1Reishia\t0.6131284916201117\t0.6005586592178771\t0.6131284916201117\t0.6159217877094971\t0.6159217877094971\t0.6159217877094971\t0.0027932960893854997\t0.0027932960893854997\t0.0\t0\n",
      "\tMN389132.1Reishia\tMN389130.1Reishia\tMN389131.1Reishia\tMN389127.1Reishia\tMN389128.1Reishia\tMN389129.1Reishia\tMG564471.1Reishia\tMG564469.1Reishia\tMG564470.1Reishia\tMG564468.1Reishia\n",
      "Tree(rooted=True)\n",
      "    Clade(branch_length=0, name='Inner8')\n",
      "        Clade(branch_length=0.0013530027932960806, name='Inner7')\n",
      "            Clade(branch_length=0.00021822625698326992, name='MN389131.1Reishia')\n",
      "            Clade(branch_length=0.00397171787709498, name='MN389132.1Reishia')\n",
      "        Clade(branch_length=0.0022259078212290492, name='Inner6')\n",
      "            Clade(branch_length=0.0052374301675977486, name='MN389128.1Reishia')\n",
      "            Clade(branch_length=0.0024441340782122923, name='Inner5')\n",
      "                Clade(branch_length=0.016236033519553064, name='MN389127.1Reishia')\n",
      "                Clade(branch_length=0.023568435754189918, name='Inner4')\n",
      "                    Clade(branch_length=0.5800279329608939, name='Inner3')\n",
      "                        Clade(branch_length=0.0013966480446927498, name='Inner2')\n",
      "                            Clade(branch_length=0.0, name='MG564468.1Reishia')\n",
      "                            Clade(branch_length=0.0, name='MG564470.1Reishia')\n",
      "                        Clade(branch_length=0.0013966480446927498, name='Inner1')\n",
      "                            Clade(branch_length=0.0, name='MG564469.1Reishia')\n",
      "                            Clade(branch_length=0.0, name='MG564471.1Reishia')\n",
      "                    Clade(branch_length=0.019134078212290406, name='MN389130.1Reishia')\n",
      "        Clade(branch_length=0.004233589385474863, name='MN389129.1Reishia')\n"
     ]
    },
    {
     "data": {
      "image/png": "[encoded data removed]",
      "text/plain": [
       "<Figure size 1250x1250 with 1 Axes>"
      ]
     },
     "metadata": {
      "needs_background": "light"
     },
     "output_type": "display_data"
    }
   ],
   "source": [
    "# Código del ejercicio 6\n",
    "import Bio \n",
    "from Bio import Entrez\n",
    "from Bio.Seq import Seq\n",
    "from Bio import SeqIO\n",
    "from IPython.core.display import Image\n",
    "# Librerias para armar el árbol filogénetico\n",
    "from Bio import AlignIO\n",
    "from Bio.Align.Applications import ClustalwCommandline\n",
    "import os\n",
    "from Bio import Phylo\n",
    "from Bio.Phylo.TreeConstruction import DistanceTreeConstructor\n",
    "from Bio.Phylo.TreeConstruction import DistanceCalculator\n",
    "\n",
    "import matplotlib\n",
    "import matplotlib.pyplot as plt\n",
    "import ipywidgets \n",
    "\n",
    "import warnings\n",
    "warnings.filterwarnings('ignore') \n",
    "\n",
    "# Seleccionar los 10 primeros IDs del Accession List y descargar la data tipo Genbank \n",
    "# de la especie seleccionda\n",
    "with open(\"./sample_data/sequence.seq\",\"r\") as archivo:\n",
    "     listas = [\"MN389132.1\", \"MN389131.1\", \"MN389130.1\", \"MN389129.1\", \"MN389128.1\", \"MN389127.1\",\n",
    "               \"MG564471.1\", \"MG564470.1\", \"MG564469.1\", \"MG564468.1\"]\n",
    "\n",
    "Entrez.email = \"maria.auquilla@est.ikiam.edu.ec\"\n",
    "ofile = open(\"./sample_data/sequence.gb\", \"w\")\n",
    "with Entrez.efetch( db=\"nucleotide\", rettype=\"gb\", retmode=\"text\", id= listas\n",
    "                  ) as handle: \n",
    "    for seq_record in SeqIO.parse(handle, \"gb\"):\n",
    "        ofile.write(\">\"+str(seq_record.id)+str(seq_record.description[:50])+'\\n')\n",
    "        ofile.write(str(seq_record.seq)+'\\n')\n",
    "        ofile.write('\\n')\n",
    "DatosFast=open('./sample_data/sequence.fasta','w')\n",
    "with open(\"./sample_data/sequence.gb\",'r') as genbank: \n",
    "    a=genbank.read()\n",
    "    for line in a:\n",
    "        DatosFast.write(str(line))\n",
    "# Agregar la data para el secuenciamiento y realizar la alneación para los IDs, se usa ClustalW2\n",
    "\n",
    "clustalw_exe = r\"C:\\Program Files (x86)\\ClustalW2\\clustalw2.exe\"\n",
    "clustalw_cline = ClustalwCommandline(clustalw_exe, infile = \"./sample_data/sequence.fasta\")\n",
    "assert os.path.isfile(clustalw_exe), \"Clustal_W executable is missing or not found\"\n",
    "stdout, stderr = clustalw_cline()\n",
    "print(clustalw_cline)\n",
    "ClustalAlign = AlignIO.read(\"sample_data/sequence.aln\", \"clustal\")\n",
    "print(ClustalAlign)\n",
    "\n",
    "# Dendograma para el Árbol filogenético\n",
    "arbol = Phylo.read(\"sample_data/sequence.dnd\", \"newick\")\n",
    "Phylo.draw_ascii(arbol)\n",
    "# Alinemiento y Distancia adecuada \n",
    "with open(\"sample_data/sequence.aln\",\"r\") as aln: \n",
    "    alignment = AlignIO.read(aln,\"clustal\")\n",
    "print(type(alignment))\n",
    "\n",
    "calculator = DistanceCalculator('identity')\n",
    "\n",
    "distance_matrix = calculator.get_distance(alignment)\n",
    "print(distance_matrix)\n",
    "\n",
    "# Función y Orden para construir el Árbol filogenético\n",
    "constructor = DistanceTreeConstructor(calculator)\n",
    "\n",
    "arbol_Filogenetico= constructor.build_tree(alignment)\n",
    "arbol_Filogenetico.rooted = True\n",
    "print(arbol_Filogenetico)\n",
    "\n",
    "# Pasamos el Árbol a archivo .xml  \n",
    "Phylo.write(arbol_Filogenetico, \"./sample_data/arbol_Filogenico.xml\", \"phyloxml\")\n",
    "ArbolIm = Phylo.read(file=\"./sample_data/arbol_Filogenico.xml\", format= \"phyloxml\")\n",
    "\n",
    "fig = plt.figure(figsize=(25, 25), dpi=50) # Proporcionamos forma y tamaño\n",
    "matplotlib.rc('font', size=17)              # Tamaño para las etiquetas  \n",
    "matplotlib.rc('xtick', labelsize=15)        # Tamaño para los niveles tanto en X y Y\n",
    "matplotlib.rc('ytick', labelsize=15)  \n",
    "plt.title(\"Árbol filogenético, hongos\")      \n",
    "axes = fig.add_subplot(1, 1, 1)\n",
    "Phylo.draw(ArbolIm, axes=axes)\n",
    "fig.savefig(\"sample_data/Árbol_Fil_hongos\")\n"
   ]
  },
  {
   "cell_type": "markdown",
   "metadata": {},
   "source": []
  },
  {
   "cell_type": "markdown",
   "metadata": {},
   "source": [
    "## Ejercicio 7 [1 punto]\n",
    "\n",
    "\n",
    "1. Cree en GitHub un repositorio de nombre ```GBI6_ExamenPython```. \n",
    "2. Cree un archivo ```Readme.md``` que debe tener lo siguiente: \n",
    "- Datos personales\n",
    "- Características del computador\n",
    "- Versión de Python/Anaconda y de cada uno de los módulos/paquetes y utilizados\n",
    "- Explicación de la data utilizada\n",
    "\n",
    "3. Cree un directorio de nombre ```data``` donde deben estar guardado la data utilizada \n",
    "4. Realice al menos 1 control de la versión (commits) por cada ejercicio (del 1 al 6), con un mensaje que inicie como: \n",
    "\n",
    "```sh \n",
    "Carlitos Alimaña ha realizado .....  \n",
    "```"
   ]
  }
 ],
 "metadata": {
  "kernelspec": {
   "display_name": "Python 3 (ipykernel)",
   "language": "python",
   "name": "python3"
  },
  "language_info": {
   "codemirror_mode": {
    "name": "ipython",
    "version": 3
   },
   "file_extension": ".py",
   "mimetype": "text/x-python",
   "name": "python",
   "nbconvert_exporter": "python",
   "pygments_lexer": "ipython3",
   "version": "3.8.8"
  },
  "latex_envs": {
   "LaTeX_envs_menu_present": true,
   "autoclose": false,
   "autocomplete": true,
   "bibliofile": "biblio.bib",
   "cite_by": "apalike",
   "current_citInitial": 1,
   "eqLabelWithNumbers": true,
   "eqNumInitial": 1,
   "hotkeys": {
    "equation": "Ctrl-E",
    "itemize": "Ctrl-I"
   },
   "labels_anchors": false,
   "latex_user_defs": false,
   "report_style_numbering": false,
   "user_envs_cfg": false
  },
  "toc": {
   "base_numbering": 1,
   "nav_menu": {},
   "number_sections": true,
   "sideBar": false,
   "skip_h1_title": false,
   "title_cell": "Table of Contents",
   "title_sidebar": "Contents",
   "toc_cell": false,
   "toc_position": {
    "height": "1152.67px",
    "left": "41px",
    "top": "110px",
    "width": "253.458px"
   },
   "toc_section_display": true,
   "toc_window_display": false
  },
  "varInspector": {
   "cols": {
    "lenName": 16,
    "lenType": 16,
    "lenVar": 40
   },
   "kernels_config": {
    "python": {
     "delete_cmd_postfix": "",
     "delete_cmd_prefix": "del ",
     "library": "var_list.py",
     "varRefreshCmd": "print(var_dic_list())"
    },
    "r": {
     "delete_cmd_postfix": ") ",
     "delete_cmd_prefix": "rm(",
     "library": "var_list.r",
     "varRefreshCmd": "cat(var_dic_list()) "
    }
   },
   "types_to_exclude": [
    "module",
    "function",
    "builtin_function_or_method",
    "instance",
    "_Feature"
   ],
   "window_display": false
  }
 },
 "nbformat": 4,
 "nbformat_minor": 4
}
